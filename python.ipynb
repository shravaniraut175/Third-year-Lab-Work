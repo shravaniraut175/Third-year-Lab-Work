{
 "cells": [
  {
   "cell_type": "markdown",
   "id": "28a8f61a",
   "metadata": {},
   "source": [
    "Implementation of Naïve Bayes Classifier using languages like JAVA/ python."
   ]
  },
  {
   "cell_type": "code",
   "execution_count": 16,
   "id": "e606d9be",
   "metadata": {},
   "outputs": [
    {
     "name": "stdout",
     "output_type": "stream",
     "text": [
      "Predictions: [0]\n",
      "Accuracy: 1.0\n"
     ]
    }
   ],
   "source": [
    "from sklearn.model_selection import train_test_split\n",
    "from sklearn.naive_bayes import GaussianNB\n",
    "from sklearn.metrics import accuracy_score\n",
    "\n",
    "X = [[150, 50], [160, 55], [170, 65], [180, 80], [165, 60]]\n",
    "y = [0, 0, 1, 1, 0]\n",
    "\n",
    "X_train, X_test, y_train, y_test = train_test_split(X, y, test_size=0.2)\n",
    "\n",
    "model = GaussianNB()\n",
    "model.fit(X_train, y_train)\n",
    "y_pred = model.predict(X_test)\n",
    "\n",
    "print(\"Predictions:\", y_pred)\n",
    "print(\"Accuracy:\", accuracy_score(y_test, y_pred))"
   ]
  },
  {
   "cell_type": "markdown",
   "id": "54dbddd8",
   "metadata": {},
   "source": [
    "Implementation of Decision Tree Classifier using languages like JAVA/ python."
   ]
  },
  {
   "cell_type": "code",
   "execution_count": 17,
   "id": "7d57ddf7",
   "metadata": {},
   "outputs": [
    {
     "name": "stdout",
     "output_type": "stream",
     "text": [
      "Predictions: [1]\n",
      "Accuracy: 1.0\n"
     ]
    }
   ],
   "source": [
    "from sklearn.tree import DecisionTreeClassifier\n",
    "from sklearn.model_selection import train_test_split\n",
    "from sklearn.metrics import accuracy_score\n",
    "\n",
    "X = [[150, 50], [160, 55], [170, 65], [180, 80], [165, 60]]\n",
    "y = [0, 0, 1, 1, 0]\n",
    "\n",
    "X_train, X_test, y_train, y_test = train_test_split(X, y, test_size=0.2)\n",
    "\n",
    "model = DecisionTreeClassifier()\n",
    "model.fit(X_train, y_train)\n",
    "y_pred = model.predict(X_test)\n",
    "\n",
    "print(\"Predictions:\", y_pred)\n",
    "print(\"Accuracy:\", accuracy_score(y_test, y_pred))"
   ]
  },
  {
   "cell_type": "markdown",
   "id": "0bb5384b",
   "metadata": {},
   "source": [
    "Implementation of K-means Clustering algorithm using languages like JAVA/ python."
   ]
  },
  {
   "cell_type": "code",
   "execution_count": 18,
   "id": "d92d6181",
   "metadata": {},
   "outputs": [
    {
     "name": "stdout",
     "output_type": "stream",
     "text": [
      "Cluster centers: [[3.25 2.5 ]\n",
      " [1.   1.  ]]\n",
      "Labels: [1 0 1 0 0 0]\n"
     ]
    }
   ],
   "source": [
    "from sklearn.cluster import KMeans\n",
    "import numpy as np\n",
    "\n",
    "X = np.array([[1,2],[1,4],[1,0],\n",
    "               [4,2],[4,4],[4,0]])\n",
    "\n",
    "kmeans = KMeans(n_clusters=2, random_state=0)\n",
    "kmeans.fit(X)\n",
    "\n",
    "print(\"Cluster centers:\", kmeans.cluster_centers_)\n",
    "print(\"Labels:\", kmeans.labels_)"
   ]
  },
  {
   "cell_type": "markdown",
   "id": "c1cba46a",
   "metadata": {},
   "source": [
    "Implementation of K-medoid Clustering algorithm using languages like JAVA/ python."
   ]
  },
  {
   "cell_type": "code",
   "execution_count": 19,
   "id": "b60202a2",
   "metadata": {},
   "outputs": [
    {
     "name": "stdout",
     "output_type": "stream",
     "text": [
      "Medoids: [[4 2]\n",
      " [1 2]]\n",
      "Labels: [1 1 1 0 0 0]\n"
     ]
    }
   ],
   "source": [
    "import numpy as np\n",
    "\n",
    "X = np.array([[1,2],[1,4],[1,0],\n",
    "              [4,2],[4,4],[4,0]])\n",
    "\n",
    "k = 2\n",
    "medoids = X[np.random.choice(len(X), k, replace=False)]\n",
    "labels = np.zeros(len(X))\n",
    "\n",
    "for _ in range(10):\n",
    "    for i, x in enumerate(X):\n",
    "        distances = np.sum(np.abs(medoids - x), axis=1)\n",
    "        labels[i] = np.argmin(distances)\n",
    "    for j in range(k):\n",
    "        cluster_points = X[labels == j]\n",
    "        costs = [np.sum(np.sum(np.abs(cluster_points - candidate), axis=1)) for candidate in cluster_points]\n",
    "        medoids[j] = cluster_points[np.argmin(costs)]\n",
    "\n",
    "print(\"Medoids:\", medoids)\n",
    "print(\"Labels:\", labels.astype(int))\n"
   ]
  },
  {
   "cell_type": "markdown",
   "id": "b0c311da",
   "metadata": {},
   "source": [
    "Implementation of association mining algorithm like Apriori using languages like JAVA/ python."
   ]
  },
  {
   "cell_type": "code",
   "execution_count": 20,
   "id": "7778cabe",
   "metadata": {},
   "outputs": [
    {
     "name": "stdout",
     "output_type": "stream",
     "text": [
      "Frequent Items:\n",
      "milk : 0.6\n",
      "bread : 1.0\n",
      "butter : 0.8\n"
     ]
    }
   ],
   "source": [
    "dataset = [\n",
    "    ['milk', 'bread', 'butter'],\n",
    "    ['bread', 'butter'],\n",
    "    ['milk', 'bread'],\n",
    "    ['milk', 'bread', 'butter'],\n",
    "    ['bread', 'butter']\n",
    "]\n",
    "\n",
    "min_support = 0.6\n",
    "item_counts = {}\n",
    "n = len(dataset)\n",
    "\n",
    "for transaction in dataset:\n",
    "    for item in transaction:\n",
    "        item_counts[item] = item_counts.get(item, 0) + 1\n",
    "\n",
    "frequent_items = {item: count/n for item, count in item_counts.items() if count/n >= min_support}\n",
    "\n",
    "print(\"Frequent Items:\")\n",
    "for item, support in frequent_items.items():\n",
    "    print(item, \":\", support)\n"
   ]
  },
  {
   "cell_type": "markdown",
   "id": "be585fed",
   "metadata": {},
   "source": [
    "Implementation of Page Rank algorithm."
   ]
  },
  {
   "cell_type": "code",
   "execution_count": 21,
   "id": "a100e16b",
   "metadata": {},
   "outputs": [
    {
     "name": "stdout",
     "output_type": "stream",
     "text": [
      "PageRank Scores:\n",
      "A : 0.3725\n",
      "B : 0.1958\n",
      "C : 0.3941\n",
      "D : 0.0375\n"
     ]
    }
   ],
   "source": [
    "import numpy as np\n",
    "\n",
    "links = {\n",
    "    'A': ['B', 'C'],\n",
    "    'B': ['C'],\n",
    "    'C': ['A'],\n",
    "    'D': ['C']\n",
    "}\n",
    "\n",
    "pages = list(links.keys())\n",
    "n = len(pages)\n",
    "M = np.zeros((n, n))\n",
    "\n",
    "for i, p in enumerate(pages):\n",
    "    for l in links[p]:\n",
    "        M[pages.index(l)][i] = 1 / len(links[p])\n",
    "\n",
    "d = 0.85\n",
    "r = np.ones(n) / n\n",
    "\n",
    "for _ in range(100):\n",
    "    r = (1 - d) / n + d * M.dot(r)\n",
    "\n",
    "print(\"PageRank Scores:\")\n",
    "for i, p in enumerate(pages):\n",
    "    print(p, \":\", round(r[i], 4))\n"
   ]
  }
 ],
 "metadata": {
  "kernelspec": {
   "display_name": "Python 3",
   "language": "python",
   "name": "python3"
  },
  "language_info": {
   "codemirror_mode": {
    "name": "ipython",
    "version": 3
   },
   "file_extension": ".py",
   "mimetype": "text/x-python",
   "name": "python",
   "nbconvert_exporter": "python",
   "pygments_lexer": "ipython3",
   "version": "3.12.4"
  }
 },
 "nbformat": 4,
 "nbformat_minor": 5
}
