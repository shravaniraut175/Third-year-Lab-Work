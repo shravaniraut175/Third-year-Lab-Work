{
 "cells": [
  {
   "cell_type": "markdown",
   "id": "f0f7aa17",
   "metadata": {},
   "source": [
    "Identify the Peas Description And Task Environment for a Given Real World AI Problem."
   ]
  },
  {
   "cell_type": "markdown",
   "id": "b4f2f50d",
   "metadata": {},
   "source": [
    "🌱 What is PEAS?\n",
    "\n",
    "PEAS stands for Performance measure, Environment, Actuators, and Sensors.\n",
    "It’s a framework used to describe any AI agent’s task environment — i.e., what the agent does, how it interacts with the world, and how its success is measured.\n",
    "\n",
    "🧠 Structure of PEAS Description:\n",
    "Element\tMeaning\tExample Description\n",
    "\n",
    "P (Performance Measure)\tCriteria to judge success or failure\tAccuracy, profit, time taken, safety, etc.\n",
    "\n",
    "E (Environment)\tThe world in which the agent operates\tRoad, market, web, factory, hospital, etc.\n",
    "\n",
    "A (Actuators)\tWhat the agent can do / its actions\tMove, speak, recommend, brake, etc.\n",
    "\n",
    "S (Sensors)\tHow the agent perceives the environment\tCameras, microphones, input data, etc.\n",
    "\n",
    "1. Crossword Solving Agent\n",
    "\n",
    "Performance Measure:\n",
    "\n",
    "- Correctly filled words\n",
    "\n",
    "- Speed of solving\n",
    "\n",
    "- Consistency with clues\n",
    "\n",
    "- Minimal errors\n",
    "\n",
    "Environment:\n",
    "\n",
    "- Crossword grid\n",
    "\n",
    "- Word list / dictionary\n",
    "\n",
    "- Clues for each word\n",
    "\n",
    "Actuators:\n",
    "\n",
    "- Placing letters in grid cells\n",
    "\n",
    "Sensors:\n",
    "\n",
    "- Reading clues\n",
    "\n",
    "- Checking letters already filled\n",
    "\n",
    "- Validating words against dictionary\n",
    "\n",
    "2. Vacuum Cleaner Agent\n",
    "\n",
    "Performance Measure:\n",
    "\n",
    "- Amount of dirt cleaned\n",
    "\n",
    "- Time/energy efficiency\n",
    "\n",
    "- Coverage of all areas\n",
    "\n",
    "- Minimal repeated cleaning\n",
    "\n",
    "Environment:\n",
    "\n",
    "- Floor space (rooms)\n",
    "\n",
    "- Obstacles (walls, furniture)\n",
    "\n",
    "- Dirt distribution\n",
    "\n",
    "Actuators:\n",
    "\n",
    "- Movement (forward, backward, turn)\n",
    "\n",
    "- Suction/cleaning mechanism\n",
    "\n",
    "Sensors:\n",
    "\n",
    "- Dirt sensors\n",
    "\n",
    "- Bump sensors (detect obstacles)\n",
    "\n",
    "- Floor position / location sensors"
   ]
  },
  {
   "cell_type": "markdown",
   "id": "c4f51d38",
   "metadata": {},
   "source": [
    "2. Identify suitable Agent Architecture and type for the problem\n",
    "\n",
    "Imagine a company uses drones to deliver packages in a city. Each drone is equipped with sensors to detect obstacles, GPS for navigation, cameras for visual input and an onboard AI system to decide the best route, avoid collisions and adjust to weather conditions. It can recharge itself when low on battery and notify the control center if it faces a failure. Identify the type of agent used in the above scenario. Draw a suitable agent component diagram and comment on the agent type and its suitability.\n",
    "\n",
    "\n",
    ". Agent Type Analysis\n",
    "\n",
    "Feature\tAgent Type for Drone Delivery\n",
    "\n",
    "- Simple Reflex Agent\t❌ Not suitable; reacts only to current sensor data, cannot plan routes or handle dynamic city conditions.\n",
    "\n",
    "- Model-Based Reflex Agent\t⚠️ Partially suitable; maintains internal state (e.g., battery, position) but still lacks goal planning and utility optimization.\n",
    "\n",
    "- Goal-Based Agent\t✅ Suitable; the drone has a clear goal—deliver packages. It can plan routes and avoid obstacles to achieve this goal.\n",
    "\n",
    "- Utility-Based Agent\t✅ Highly suitable; the drone can evaluate different routes and trade-offs (battery life, time, weather) to choose the optimal path.\n",
    "\n",
    "- Learning Agent\t⚠️ Optional but beneficial; the drone can improve routing efficiency over time using experience.\n",
    "\n",
    "\n",
    "Conclusion:\n",
    "\n",
    "The drone system is primarily a Goal-Based and Utility-Based agent, with potential learning capabilities for adaptation. This combination allows it to plan, optimize, and improve over time in a dynamic environment.\n",
    "\n",
    "\n",
    "2. Agent Architecture (Component Diagram)\n",
    "\n",
    "A simplified drone agent architecture can be represented as follows:\n",
    "\n",
    "               +------------------------+\n",
    "               |      Sensors           |\n",
    "               | (GPS, Camera, Lidar,  |\n",
    "               |  Weather, Battery)    |\n",
    "               +-----------+------------+\n",
    "                           |\n",
    "                           v\n",
    "               +------------------------+\n",
    "               |  Perception Module     |\n",
    "               |  (Process sensor data,|\n",
    "               |   update world model) |\n",
    "               +-----------+------------+\n",
    "                           |\n",
    "                           v\n",
    "               +------------------------+\n",
    "               |  Internal World Model  |\n",
    "               |  (State: position,    |\n",
    "               |  battery, environment)|\n",
    "               +-----------+------------+\n",
    "                           |\n",
    "                           v\n",
    "               +------------------------+\n",
    "               |  Decision-Making       |\n",
    "               |  (Goal-based planner,  |\n",
    "               |   Utility evaluator)   |\n",
    "               +-----------+------------+\n",
    "                           |\n",
    "                           v\n",
    "               +------------------------+\n",
    "               |  Action Module         |\n",
    "               |  (Move, Avoid, Recharge|\n",
    "               |   Notify Control)      |\n",
    "               +------------------------+\n",
    "\n",
    "\n"
   ]
  },
  {
   "cell_type": "markdown",
   "id": "e228cdf7",
   "metadata": {},
   "source": [
    "3. Implementation of Breadth first search for problem solving."
   ]
  },
  {
   "cell_type": "code",
   "execution_count": 9,
   "id": "1d91197f",
   "metadata": {},
   "outputs": [
    {
     "name": "stdout",
     "output_type": "stream",
     "text": [
      "Path from A to F : ['A', 'C', 'F']\n"
     ]
    }
   ],
   "source": [
    "from collections import deque\n",
    "\n",
    "def bfs(graph, start, goal):\n",
    "    queue = deque([[start]])\n",
    "    visited = set()\n",
    "\n",
    "    while queue:\n",
    "        path = queue.popleft()\n",
    "        node = path[-1]\n",
    "\n",
    "        if node == goal:\n",
    "            return path\n",
    "\n",
    "        elif node not in visited:\n",
    "            for neighbour in graph.get(node, []):\n",
    "                new_path = list(path)\n",
    "                new_path.append(neighbour)\n",
    "                queue.append(new_path)\n",
    "            \n",
    "            visited.add(node)\n",
    "\n",
    "    return None \n",
    "\n",
    "# Example\n",
    "graph = {\n",
    "    'A': ['B', 'C'],\n",
    "    'B': ['D', 'E'],\n",
    "    'C': ['F'],\n",
    "    'D': [],\n",
    "    'E': ['F'],\n",
    "    'F': []\n",
    "}\n",
    "\n",
    "\n",
    "start = 'A'\n",
    "goal = 'F'\n",
    "path = bfs(graph, start, goal)\n",
    "print(\"Path from\", start, \"to\", goal, \":\", path)\n"
   ]
  },
  {
   "cell_type": "markdown",
   "id": "f6ba44ed",
   "metadata": {},
   "source": [
    "4. Implementation of Bidirectional search for problem solving"
   ]
  },
  {
   "cell_type": "code",
   "execution_count": 10,
   "id": "a7680164",
   "metadata": {},
   "outputs": [
    {
     "name": "stdout",
     "output_type": "stream",
     "text": [
      "Path from A to F : ['A', 'C', 'F']\n"
     ]
    }
   ],
   "source": [
    "from collections import deque\n",
    "\n",
    "def bfs(graph, start, goal):\n",
    "    queue = deque([[start]])\n",
    "    visited = set()\n",
    "\n",
    "    while queue:\n",
    "        path = queue.popleft()\n",
    "        node = path[-1]\n",
    "\n",
    "        if node == goal:\n",
    "            return path\n",
    "\n",
    "        elif node not in visited:\n",
    "            for neighbour in graph.get(node, []):\n",
    "                new_path = list(path)\n",
    "                new_path.append(neighbour)\n",
    "                queue.append(new_path)\n",
    "            \n",
    "            visited.add(node)\n",
    "\n",
    "    return None\n",
    "\n",
    "# Example\n",
    "graph = {\n",
    "    'A': ['B', 'C'],\n",
    "    'B': ['D', 'E'],\n",
    "    'C': ['F'],\n",
    "    'D': [],\n",
    "    'E': ['F'],\n",
    "    'F': []\n",
    "}\n",
    "\n",
    "# Example usage\n",
    "start = 'A'\n",
    "goal = 'F'\n",
    "path = bfs(graph, start, goal)\n",
    "print(\"Path from\", start, \"to\", goal, \":\", path)"
   ]
  },
  {
   "cell_type": "markdown",
   "id": "75583c6c",
   "metadata": {},
   "source": [
    "5. Implement Hill Climbing Search for problem solving"
   ]
  },
  {
   "cell_type": "code",
   "execution_count": 11,
   "id": "32a4fd10",
   "metadata": {},
   "outputs": [
    {
     "name": "stdout",
     "output_type": "stream",
     "text": [
      "Starting at: F\n",
      "\n",
      "Reached goal (local maximum): F\n"
     ]
    }
   ],
   "source": [
    "import random\n",
    "\n",
    "def hill_climbing(problem, heuristic):\n",
    "    current = random.choice(list(problem.keys())) \n",
    "    print(f\"Starting at: {current}\")\n",
    "\n",
    "    while True:\n",
    "        neighbors = problem[current]\n",
    "        if not neighbors:\n",
    "            break\n",
    "\n",
    "        neighbor = max(neighbors, key=lambda n: heuristic[n])\n",
    "\n",
    "        if heuristic[neighbor] > heuristic[current]:\n",
    "            print(f\"Moving from {current} → {neighbor}\")\n",
    "            current = neighbor\n",
    "        else:\n",
    "            print(f\"No better neighbors found. Stopped at: {current}\")\n",
    "            break\n",
    "\n",
    "    return current\n",
    "\n",
    "# Example\n",
    "graph = {\n",
    "    'A': ['B', 'C'],\n",
    "    'B': ['D', 'E'],\n",
    "    'C': ['F'],\n",
    "    'D': [],\n",
    "    'E': ['F'],\n",
    "    'F': []\n",
    "}\n",
    "\n",
    "# Example heuristic values (higher = better)\n",
    "heuristic = {\n",
    "    'A': 1,\n",
    "    'B': 4,\n",
    "    'C': 3,\n",
    "    'D': 2,\n",
    "    'E': 6,\n",
    "    'F': 8\n",
    "}\n",
    "\n",
    "# Run Hill Climbing\n",
    "result = hill_climbing(graph, heuristic)\n",
    "print(\"\\nReached goal (local maximum):\", result)\n"
   ]
  },
  {
   "cell_type": "markdown",
   "id": "535a6130",
   "metadata": {},
   "source": [
    "6. Implementation of adversarial search using min-max  algorithm."
   ]
  },
  {
   "cell_type": "code",
   "execution_count": 12,
   "id": "49aecc2c",
   "metadata": {},
   "outputs": [
    {
     "name": "stdout",
     "output_type": "stream",
     "text": [
      "The optimal value for the maximizer is: 12\n"
     ]
    }
   ],
   "source": [
    "def minimax(depth, node_index, is_maximizing, values, max_depth):\n",
    "    # Base case: when we reach a leaf node\n",
    "    if depth == max_depth:\n",
    "        return values[node_index]\n",
    "\n",
    "    if is_maximizing:\n",
    "        best = float('-inf')\n",
    "\n",
    "        # Recur for left and right children\n",
    "        best = max(best, minimax(depth + 1, node_index * 2, False, values, max_depth))\n",
    "        best = max(best, minimax(depth + 1, node_index * 2 + 1, False, values, max_depth))\n",
    "        return best\n",
    "    else:\n",
    "        best = float('inf')\n",
    "\n",
    "        # Recur for left and right children\n",
    "        best = min(best, minimax(depth + 1, node_index * 2, True, values, max_depth))\n",
    "        best = min(best, minimax(depth + 1, node_index * 2 + 1, True, values, max_depth))\n",
    "        return best\n",
    "\n",
    "\n",
    "# Example leaf node values (for a small game tree)\n",
    "values = [3, 5, 2, 9, 12, 5, 23, 23]\n",
    "\n",
    "# Height of the tree (log₂ of number of leaves)\n",
    "import math\n",
    "max_depth = math.log2(len(values))\n",
    "\n",
    "# Run minimax from root (depth=0, node_index=0, maximizing player)\n",
    "optimal_value = minimax(0, 0, True, values, int(max_depth))\n",
    "\n",
    "print(\"The optimal value for the maximizer is:\", optimal_value)\n"
   ]
  },
  {
   "cell_type": "code",
   "execution_count": 13,
   "id": "ed22a1e2",
   "metadata": {},
   "outputs": [
    {
     "name": "stdout",
     "output_type": "stream",
     "text": [
      "Best value for Maximizer is: 2\n"
     ]
    }
   ],
   "source": [
    "def minimax(depth, isMax):\n",
    "    # Example leaf node values\n",
    "    scores = [3, 5, 2, 9]\n",
    "\n",
    "    # Base condition: return the leaf value\n",
    "    if depth == 2:\n",
    "        return scores[depth]\n",
    "\n",
    "    if isMax:\n",
    "        return max(minimax(depth + 1, False), minimax(depth + 1, False))\n",
    "    else:\n",
    "        return min(minimax(depth + 1, True), minimax(depth + 1, True))\n",
    "\n",
    "print(\"Best value for Maximizer is:\", minimax(0, True))\n"
   ]
  },
  {
   "cell_type": "markdown",
   "id": "80024d2b",
   "metadata": {},
   "source": [
    "7. Implement knowledge base in Prolog for solving Murder Mystery \n",
    "- Husband and Alice was not together on the night of murder. \n",
    "- The killer and victim were on the beach. \n",
    "- On the night of murder, one male and one female was in the bar. \n",
    "- The victim was twin and the counterpart was innocent. \n",
    "- The killer was younger than the victim. One child was alone at home."
   ]
  },
  {
   "cell_type": "code",
   "execution_count": 14,
   "id": "20e96c87",
   "metadata": {
    "vscode": {
     "languageId": "latex"
    }
   },
   "outputs": [
    {
     "ename": "SyntaxError",
     "evalue": "invalid syntax (931265577.py, line 4)",
     "output_type": "error",
     "traceback": [
      "\u001b[1;36m  Cell \u001b[1;32mIn[14], line 4\u001b[1;36m\u001b[0m\n\u001b[1;33m    male(husband).\u001b[0m\n\u001b[1;37m                  ^\u001b[0m\n\u001b[1;31mSyntaxError\u001b[0m\u001b[1;31m:\u001b[0m invalid syntax\n"
     ]
    }
   ],
   "source": [
    "%  FACTS \n",
    "\n",
    "% Gender Information\n",
    "male(husband).\n",
    "male(brother).\n",
    "male(son).\n",
    "\n",
    "female(alice).\n",
    "female(daughter).\n",
    "\n",
    "% Relationships\n",
    "twin(brother, alice).\n",
    "twin(alice, brother).\n",
    "twin(son, daughter).\n",
    "twin(daughter, son).\n",
    "\n",
    "child(son).\n",
    "child(daughter).\n",
    "\n",
    "% Locations on the Night of the Murder (Clue)\n",
    "\n",
    "not_together(husband, alice).\n",
    "\n",
    "on_beach(alice).\n",
    "on_beach(brother).\n",
    "\n",
    "in_bar(husband).\n",
    "in_bar(daughter).\n",
    "\n",
    "younger(alice, brother).\n",
    "\n",
    "alone(son).\n",
    "\n",
    "% RULES (Logical Inference)\n",
    "\n",
    "% Rule 1: A pair were together on the beach\n",
    "together_on_beach(X, Y) :-\n",
    "    on_beach(X),\n",
    "    on_beach(Y),\n",
    "    X \\= Y.\n",
    "\n",
    "% Rule 2: The victim was a twin\n",
    "victim(Y) :-\n",
    "    twin(Y, _),\n",
    "    on_beach(Y).\n",
    "\n",
    "% Rule 3: The killer is younger than the victim\n",
    "younger_than(X, Y) :-\n",
    "    younger(X, Y).\n",
    "\n",
    "% Rule 4: The killer must satisfy all clues\n",
    "killer(X) :-\n",
    "    victim(Y),\n",
    "    together_on_beach(X, Y),\n",
    "    younger_than(X, Y),\n",
    "    not_together(husband, alice),\n",
    "    alone(son),\n",
    "    male(husband),\n",
    "    female(alice).\n",
    "\n"
   ]
  },
  {
   "cell_type": "code",
   "execution_count": null,
   "id": "d9dc1af2",
   "metadata": {
    "vscode": {
     "languageId": "latex"
    }
   },
   "outputs": [],
   "source": [
    "?- killer(K), victim(V).\n",
    "\n",
    "Expected Output:\n",
    "K = alice,\n",
    "V = brother."
   ]
  },
  {
   "cell_type": "markdown",
   "id": "5a83232f",
   "metadata": {},
   "source": [
    "8. Implement family tree using prolog programming with different queries"
   ]
  },
  {
   "cell_type": "code",
   "execution_count": null,
   "id": "b30cacfa",
   "metadata": {
    "vscode": {
     "languageId": "latex"
    }
   },
   "outputs": [],
   "source": [
    "% Facts: gender\n",
    "male(john).\n",
    "male(michael).\n",
    "male(david).\n",
    "male(robert).\n",
    "\n",
    "female(susan).\n",
    "female(linda).\n",
    "female(emily).\n",
    "female(kate).\n",
    "\n",
    "% Facts: parent relationships\n",
    "parent(john, michael).\n",
    "parent(john, linda).\n",
    "parent(susan, michael).\n",
    "parent(susan, linda).\n",
    "\n",
    "parent(michael, david).\n",
    "parent(michael, emily).\n",
    "parent(linda, robert).\n",
    "parent(linda, kate).\n",
    "\n",
    "% Rules\n",
    "father(X, Y) :- male(X), parent(X, Y).       % X is father of Y\n",
    "mother(X, Y) :- female(X), parent(X, Y).     % X is mother of Y\n",
    "grandparent(X, Y) :- parent(X, Z), parent(Z, Y). % X is grandparent of Y\n",
    "sibling(X, Y) :- parent(P, X), parent(P, Y), X \\= Y. % X and Y are siblings\n",
    "cousin(X, Y) :- parent(P1, X), parent(P2, Y), sibling(P1, P2). % X and Y are cousins\n"
   ]
  },
  {
   "cell_type": "code",
   "execution_count": null,
   "id": "851e72ba",
   "metadata": {
    "vscode": {
     "languageId": "latex"
    }
   },
   "outputs": [
    {
     "ename": "SyntaxError",
     "evalue": "invalid syntax (1215165461.py, line 1)",
     "output_type": "error",
     "traceback": [
      "\u001b[1;36m  Cell \u001b[1;32mIn[29], line 1\u001b[1;36m\u001b[0m\n\u001b[1;33m    Example Queries\u001b[0m\n\u001b[1;37m            ^\u001b[0m\n\u001b[1;31mSyntaxError\u001b[0m\u001b[1;31m:\u001b[0m invalid syntax\n"
     ]
    }
   ],
   "source": [
    "Example Queries\n",
    "\n",
    "Who is Michael’s father?\n",
    "\n",
    "?- father(F, michael).\n",
    "\n",
    "\n",
    "Who are Linda’s children?\n",
    "\n",
    "?- parent(linda, C).\n",
    "\n",
    "\n",
    "Who are David’s grandparents?\n",
    "\n",
    "?- grandparent(G, david).\n",
    "\n",
    "\n",
    "Are Michael and Linda siblings?\n",
    "\n",
    "?- sibling(michael, linda).\n",
    "\n",
    "\n",
    "Who are David’s cousins?\n",
    "\n",
    "?- cousin(david, C).\n"
   ]
  },
  {
   "cell_type": "markdown",
   "id": "cf583d05",
   "metadata": {},
   "source": [
    "9. Implementation for Bayes Theorem."
   ]
  },
  {
   "cell_type": "code",
   "execution_count": null,
   "id": "48836d1d",
   "metadata": {},
   "outputs": [
    {
     "name": "stdout",
     "output_type": "stream",
     "text": [
      "Posterior probability P(King|Face): 0.3333333333333333\n"
     ]
    }
   ],
   "source": [
    "# Given probabilities\n",
    "P_King = 4 / 52\n",
    "P_Face_given_King = 1\n",
    "P_Face = 12 / 52\n",
    "\n",
    "# Bayes Theorem\n",
    "P_King_given_Face = (P_Face_given_King * P_King) / P_Face\n",
    "\n",
    "print(\"Posterior probability P(King|Face):\", P_King_given_Face)\n"
   ]
  }
 ],
 "metadata": {
  "kernelspec": {
   "display_name": "Python 3",
   "language": "python",
   "name": "python3"
  },
  "language_info": {
   "codemirror_mode": {
    "name": "ipython",
    "version": 3
   },
   "file_extension": ".py",
   "mimetype": "text/x-python",
   "name": "python",
   "nbconvert_exporter": "python",
   "pygments_lexer": "ipython3",
   "version": "3.12.4"
  }
 },
 "nbformat": 4,
 "nbformat_minor": 5
}
